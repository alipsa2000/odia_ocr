{
 "cells": [
  {
   "cell_type": "code",
   "execution_count": 29,
   "metadata": {},
   "outputs": [],
   "source": [
    "import cv2\n",
    "import numpy as np\n",
    "import os\n",
    "import keras\n",
    "import matplotlib.pyplot as plt\n",
    "import tensorflow as tf\n",
    "import pickle\n",
    "import socket\n",
    "import sys\n",
    "\n",
    "from keras.models import load_model, Sequential, Model\n",
    "from keras.layers import Conv2D, MaxPooling2D, LSTM, Dense, Flatten, TimeDistributed, Dropout\n",
    "from keras.optimizers import Adam\n",
    "from keras.preprocessing.image import ImageDataGenerator\n",
    "from keras.utils.np_utils import to_categorical\n",
    "from sklearn.model_selection import train_test_split"
   ]
  },
  {
   "cell_type": "code",
   "execution_count": 30,
   "metadata": {},
   "outputs": [],
   "source": [
    "path = \"IITBBS_Dataset\"\n",
    "images = []\n",
    "classNo = []\n",
    "testRatio = 0.2\n",
    "batchSizeVal = 48\n",
    "stepsPerEpochVal = 200\n",
    "epochsVal = 50\n",
    "valRatio = 0.2\n",
    "imageDimensions = (32, 32, 3)"
   ]
  },
  {
   "cell_type": "code",
   "execution_count": 31,
   "metadata": {},
   "outputs": [
    {
     "name": "stdout",
     "output_type": "stream",
     "text": [
      "17838\n"
     ]
    }
   ],
   "source": [
    "myList = os.listdir(path)\n",
    "# print(myList)\n",
    "noOfClasses = len(myList)\n",
    "for x in range(0, noOfClasses):\n",
    "    myPicList = os.listdir(path+\"/\"+myList[x])\n",
    "    for y in myPicList:\n",
    "        # split the file path into base name and extension\n",
    "        base_name, extension = os.path.splitext(y)\n",
    "        if extension == '.jpg' and extension != '.db':\n",
    "            curImg = cv2.imread(path+\"/\"+myList[x]+\"/\"+y, cv2.IMREAD_COLOR)\n",
    "        # check if the extension matches '.tif'\n",
    "        elif extension == '.tif' and extension != '.db':\n",
    "            curImg = cv2.imread(path+\"/\"+myList[x]+\"/\"+y, cv2.IMREAD_UNCHANGED)\n",
    "            # Convert the image to JPEG format\n",
    "            cv2.imwrite(path+\"/\"+myList[x]+\"/\"+base_name+'.jpg',\n",
    "                        curImg, [int(cv2.IMWRITE_JPEG_QUALITY), 100])\n",
    "            curImg = cv2.imread(\n",
    "                path+\"/\"+myList[x]+\"/\"+base_name+'.jpg', cv2.IMREAD_COLOR)\n",
    "        curImg = cv2.resize(curImg, (imageDimensions[0], imageDimensions[1]))\n",
    "        images.append(curImg)\n",
    "        classNo.append(x)\n",
    "    # print(x)\n",
    "print(len(images))"
   ]
  },
  {
   "cell_type": "code",
   "execution_count": 33,
   "metadata": {},
   "outputs": [
    {
     "name": "stdout",
     "output_type": "stream",
     "text": [
      "(11416, 32, 32, 3)\n",
      "(3568, 32, 32, 3)\n",
      "(2854, 32, 32, 3)\n",
      "[159, 212, 86, 79, 67, 88, 73, 51, 77, 80, 71, 71, 69, 89, 85, 80, 73, 59, 94, 78, 94, 83, 86, 98, 81, 81, 92, 321, 92, 85, 91, 83, 86, 76, 80, 76, 96, 87, 341, 82, 88, 88, 77, 82, 81, 80, 77, 82, 85, 324, 70, 87, 79, 86, 79, 76, 88, 86, 79, 73, 335, 91, 76, 78, 74, 74, 92, 82, 72, 82, 92, 301, 77, 43, 67, 78, 76, 77, 77, 84, 78, 85, 352, 78, 75, 88, 68, 86, 65, 72, 79, 80, 73, 327, 77, 91, 64, 86, 74, 82, 76, 78, 83, 90, 335, 84, 88, 87, 95, 82, 71, 87, 83, 83, 67]\n"
     ]
    }
   ],
   "source": [
    "images = np.array(images)\n",
    "classNo= np.array(classNo)\n",
    "\n",
    "x_train, x_test, y_train, y_test = train_test_split(images, classNo, test_size=testRatio, random_state=69)\n",
    "x_train, x_validation, y_train, y_validation = train_test_split(\n",
    "    x_train, y_train, test_size=valRatio, random_state=69)\n",
    "\n",
    "print(x_train.shape)\n",
    "print(x_test.shape)\n",
    "print(x_validation.shape)\n",
    "\n",
    "numOfSamples = []\n",
    "for x in range(0,noOfClasses):\n",
    "   # #It is giving us for each class how many images do we have\n",
    "    numOfSamples.append(len(np.where(y_train==x)[0]))\n",
    "print(numOfSamples)  \n"
   ]
  },
  {
   "cell_type": "code",
   "execution_count": 34,
   "metadata": {},
   "outputs": [
    {
     "data": {
      "image/png": "[encoded data removed]",
      "text/plain": [
       "<Figure size 1000x500 with 1 Axes>"
      ]
     },
     "metadata": {},
     "output_type": "display_data"
    }
   ],
   "source": [
    "plt.figure(figsize=(10,5))\n",
    "plt.bar(range(0,noOfClasses),numOfSamples)\n",
    "plt.title(\"No of Images for each class\")\n",
    "plt.xlabel(\"Class ID\")\n",
    "plt.ylabel(\"Number of Images\")\n",
    "plt.show()"
   ]
  },
  {
   "cell_type": "code",
   "execution_count": 35,
   "metadata": {},
   "outputs": [],
   "source": [
    "def preProcessing(img):\n",
    "    img = cv2.cvtColor(img, cv2.COLOR_BGR2GRAY)\n",
    "    img = cv2.equalizeHist(img)\n",
    "    img = img/255\n",
    "    return img"
   ]
  },
  {
   "cell_type": "code",
   "execution_count": 36,
   "metadata": {},
   "outputs": [],
   "source": [
    "def myModel():\n",
    "    noOfFilters = 60\n",
    "    sizeOfFilter1 = (5, 5)\n",
    "    sizeOfFilter2 = (3, 3)\n",
    "    sizeOfPool = (2, 2)\n",
    "    noOfNode = 500\n",
    "\n",
    "    model = Sequential()\n",
    "    model.add((Conv2D(noOfFilters, sizeOfFilter1, input_shape=(\n",
    "        imageDimensions[0], imageDimensions[1], 1), activation='relu')))\n",
    "    model.add((Conv2D(noOfFilters, sizeOfFilter1, activation='relu')))\n",
    "\n",
    "    model.add(MaxPooling2D(pool_size=sizeOfPool))\n",
    "    model.add((Conv2D(noOfFilters//2, sizeOfFilter2, activation='relu')))\n",
    "    model.add((Conv2D(noOfFilters//2, sizeOfFilter2, activation='relu')))\n",
    "    model.add(MaxPooling2D(pool_size=sizeOfPool))\n",
    "    model.add(Dropout(0.5))\n",
    "\n",
    "    model.add(Flatten())\n",
    "    model.add(Dense(noOfNode, activation='relu'))\n",
    "    model.add(Dropout(0.5))\n",
    "    model.add(Dense(noOfClasses, activation='softmax'))\n",
    "    model.compile(optimizer=Adam(learning_rate=0.001),\n",
    "                  loss='categorical_crossentropy', metrics=['accuracy'])\n",
    "    return model"
   ]
  },
  {
   "cell_type": "code",
   "execution_count": 37,
   "metadata": {},
   "outputs": [],
   "source": [
    "x_train = np.array(list(map(preProcessing, x_train)))\n",
    "x_test = np.array(list(map(preProcessing, x_test)))\n",
    "x_validation = np.array(list(map(preProcessing, x_validation)))\n",
    "\n",
    "x_train = x_train.reshape(\n",
    "    x_train.shape[0], x_train.shape[1], x_train.shape[2], 1)\n",
    "x_test = x_test.reshape(x_test.shape[0], x_test.shape[1], x_test.shape[2], 1)\n",
    "x_validation = x_validation.reshape(\n",
    "    x_validation.shape[0], x_validation.shape[1], x_validation.shape[2], 1)\n",
    "\n",
    "y_train = to_categorical(y_train, noOfClasses)\n",
    "y_test = to_categorical(y_test, noOfClasses)\n",
    "y_validation = to_categorical(y_validation, noOfClasses)"
   ]
  },
  {
   "cell_type": "code",
   "execution_count": 38,
   "metadata": {},
   "outputs": [],
   "source": [
    "dataGen = ImageDataGenerator(width_shift_range=0.1,\n",
    "                             height_shift_range=0.1,\n",
    "                             zoom_range=0.2,\n",
    "                             shear_range=0.1,\n",
    "                             rotation_range=10)\n",
    "dataGen.fit(x_train)"
   ]
  },
  {
   "cell_type": "code",
   "execution_count": 39,
   "metadata": {},
   "outputs": [
    {
     "name": "stdout",
     "output_type": "stream",
     "text": [
      "Model: \"sequential_1\"\n",
      "_________________________________________________________________\n",
      " Layer (type)                Output Shape              Param #   \n",
      "=================================================================\n",
      " conv2d_4 (Conv2D)           (None, 28, 28, 60)        1560      \n",
      "                                                                 \n",
      " conv2d_5 (Conv2D)           (None, 24, 24, 60)        90060     \n",
      "                                                                 \n",
      " max_pooling2d_2 (MaxPooling  (None, 12, 12, 60)       0         \n",
      " 2D)                                                             \n",
      "                                                                 \n",
      " conv2d_6 (Conv2D)           (None, 10, 10, 30)        16230     \n",
      "                                                                 \n",
      " conv2d_7 (Conv2D)           (None, 8, 8, 30)          8130      \n",
      "                                                                 \n",
      " max_pooling2d_3 (MaxPooling  (None, 4, 4, 30)         0         \n",
      " 2D)                                                             \n",
      "                                                                 \n",
      " dropout_2 (Dropout)         (None, 4, 4, 30)          0         \n",
      "                                                                 \n",
      " flatten_1 (Flatten)         (None, 480)               0         \n",
      "                                                                 \n",
      " dense_2 (Dense)             (None, 500)               240500    \n",
      "                                                                 \n",
      " dropout_3 (Dropout)         (None, 500)               0         \n",
      "                                                                 \n",
      " dense_3 (Dense)             (None, 115)               57615     \n",
      "                                                                 \n",
      "=================================================================\n",
      "Total params: 414,095\n",
      "Trainable params: 414,095\n",
      "Non-trainable params: 0\n",
      "_________________________________________________________________\n",
      "None\n"
     ]
    }
   ],
   "source": [
    "model = myModel()\n",
    "print(model.summary())"
   ]
  },
  {
   "cell_type": "code",
   "execution_count": 40,
   "metadata": {},
   "outputs": [
    {
     "name": "stdout",
     "output_type": "stream",
     "text": [
      "Epoch 1/50\n",
      "200/200 [==============================] - 26s 127ms/step - loss: 4.4005 - accuracy: 0.0536 - val_loss: 4.0447 - val_accuracy: 0.0932\n",
      "Epoch 2/50\n",
      "200/200 [==============================] - 26s 128ms/step - loss: 3.9545 - accuracy: 0.1179 - val_loss: 3.6047 - val_accuracy: 0.1685\n",
      "Epoch 3/50\n",
      "200/200 [==============================] - 26s 129ms/step - loss: 3.7050 - accuracy: 0.1569 - val_loss: 3.3717 - val_accuracy: 0.2134\n",
      "Epoch 4/50\n",
      "200/200 [==============================] - 25s 127ms/step - loss: 3.4898 - accuracy: 0.1859 - val_loss: 3.0709 - val_accuracy: 0.2863\n",
      "Epoch 5/50\n",
      "200/200 [==============================] - 25s 126ms/step - loss: 3.3590 - accuracy: 0.2056 - val_loss: 2.8994 - val_accuracy: 0.2992\n",
      "Epoch 6/50\n",
      "200/200 [==============================] - 26s 128ms/step - loss: 3.2335 - accuracy: 0.2247 - val_loss: 2.8787 - val_accuracy: 0.2999\n",
      "Epoch 7/50\n",
      "200/200 [==============================] - 26s 128ms/step - loss: 3.1122 - accuracy: 0.2440 - val_loss: 2.6649 - val_accuracy: 0.3399\n",
      "Epoch 8/50\n",
      "200/200 [==============================] - 26s 130ms/step - loss: 2.9741 - accuracy: 0.2658 - val_loss: 2.4915 - val_accuracy: 0.3718\n",
      "Epoch 9/50\n",
      "200/200 [==============================] - 26s 132ms/step - loss: 2.8911 - accuracy: 0.2779 - val_loss: 2.3748 - val_accuracy: 0.3900\n",
      "Epoch 10/50\n",
      "200/200 [==============================] - 27s 133ms/step - loss: 2.7595 - accuracy: 0.3052 - val_loss: 2.3332 - val_accuracy: 0.3910\n",
      "Epoch 11/50\n",
      "200/200 [==============================] - 26s 130ms/step - loss: 2.6771 - accuracy: 0.3179 - val_loss: 2.1604 - val_accuracy: 0.4373\n",
      "Epoch 12/50\n",
      "200/200 [==============================] - 27s 133ms/step - loss: 2.6135 - accuracy: 0.3294 - val_loss: 2.1285 - val_accuracy: 0.4338\n",
      "Epoch 13/50\n",
      "200/200 [==============================] - 26s 128ms/step - loss: 2.5284 - accuracy: 0.3442 - val_loss: 2.0940 - val_accuracy: 0.4425\n",
      "Epoch 14/50\n",
      "200/200 [==============================] - 25s 127ms/step - loss: 2.4744 - accuracy: 0.3535 - val_loss: 1.9594 - val_accuracy: 0.4730\n",
      "Epoch 15/50\n",
      "200/200 [==============================] - 25s 127ms/step - loss: 2.4226 - accuracy: 0.3629 - val_loss: 1.9519 - val_accuracy: 0.4660\n",
      "Epoch 16/50\n",
      "200/200 [==============================] - 26s 128ms/step - loss: 2.3479 - accuracy: 0.3810 - val_loss: 1.8865 - val_accuracy: 0.4870\n",
      "Epoch 17/50\n",
      "200/200 [==============================] - 26s 128ms/step - loss: 2.3245 - accuracy: 0.3798 - val_loss: 1.8684 - val_accuracy: 0.4926\n",
      "Epoch 18/50\n",
      "200/200 [==============================] - 25s 127ms/step - loss: 2.2639 - accuracy: 0.3914 - val_loss: 1.8321 - val_accuracy: 0.4944\n",
      "Epoch 19/50\n",
      "200/200 [==============================] - 26s 130ms/step - loss: 2.2295 - accuracy: 0.4011 - val_loss: 1.8332 - val_accuracy: 0.5049\n",
      "Epoch 20/50\n",
      "200/200 [==============================] - 25s 127ms/step - loss: 2.2040 - accuracy: 0.4046 - val_loss: 1.8100 - val_accuracy: 0.5028\n",
      "Epoch 21/50\n",
      "200/200 [==============================] - 25s 127ms/step - loss: 2.1598 - accuracy: 0.4226 - val_loss: 1.7895 - val_accuracy: 0.5091\n",
      "Epoch 22/50\n",
      "200/200 [==============================] - 25s 126ms/step - loss: 2.1519 - accuracy: 0.4144 - val_loss: 1.8090 - val_accuracy: 0.5109\n",
      "Epoch 23/50\n",
      "200/200 [==============================] - 26s 128ms/step - loss: 2.0894 - accuracy: 0.4317 - val_loss: 1.7078 - val_accuracy: 0.5284\n",
      "Epoch 24/50\n",
      "200/200 [==============================] - 25s 127ms/step - loss: 2.0826 - accuracy: 0.4274 - val_loss: 1.7220 - val_accuracy: 0.5280\n",
      "Epoch 25/50\n",
      "200/200 [==============================] - 25s 127ms/step - loss: 2.0661 - accuracy: 0.4388 - val_loss: 1.6890 - val_accuracy: 0.5459\n",
      "Epoch 26/50\n",
      "200/200 [==============================] - 25s 126ms/step - loss: 2.0084 - accuracy: 0.4519 - val_loss: 1.7221 - val_accuracy: 0.5280\n",
      "Epoch 27/50\n",
      "200/200 [==============================] - 25s 126ms/step - loss: 2.0175 - accuracy: 0.4455 - val_loss: 1.6440 - val_accuracy: 0.5550\n",
      "Epoch 28/50\n",
      "200/200 [==============================] - 25s 127ms/step - loss: 1.9927 - accuracy: 0.4503 - val_loss: 1.6732 - val_accuracy: 0.5347\n",
      "Epoch 29/50\n",
      "200/200 [==============================] - 25s 127ms/step - loss: 1.9621 - accuracy: 0.4566 - val_loss: 1.5571 - val_accuracy: 0.5659\n",
      "Epoch 30/50\n",
      "200/200 [==============================] - 26s 129ms/step - loss: 1.9287 - accuracy: 0.4673 - val_loss: 1.6395 - val_accuracy: 0.5473\n",
      "Epoch 31/50\n",
      "200/200 [==============================] - 26s 129ms/step - loss: 1.9165 - accuracy: 0.4678 - val_loss: 1.6945 - val_accuracy: 0.5301\n",
      "Epoch 32/50\n",
      "200/200 [==============================] - 25s 126ms/step - loss: 1.9038 - accuracy: 0.4697 - val_loss: 1.5196 - val_accuracy: 0.5792\n",
      "Epoch 33/50\n",
      "200/200 [==============================] - 27s 134ms/step - loss: 1.8847 - accuracy: 0.4737 - val_loss: 1.5804 - val_accuracy: 0.5613\n",
      "Epoch 34/50\n",
      "200/200 [==============================] - 27s 136ms/step - loss: 1.8803 - accuracy: 0.4676 - val_loss: 1.4897 - val_accuracy: 0.5767\n",
      "Epoch 35/50\n",
      "200/200 [==============================] - 26s 130ms/step - loss: 1.8727 - accuracy: 0.4824 - val_loss: 1.5581 - val_accuracy: 0.5659\n",
      "Epoch 36/50\n",
      "200/200 [==============================] - 25s 127ms/step - loss: 1.8381 - accuracy: 0.4858 - val_loss: 1.5553 - val_accuracy: 0.5599\n",
      "Epoch 37/50\n",
      "200/200 [==============================] - 25s 127ms/step - loss: 1.8291 - accuracy: 0.4903 - val_loss: 1.6144 - val_accuracy: 0.5494\n",
      "Epoch 38/50\n",
      "200/200 [==============================] - 26s 128ms/step - loss: 1.7998 - accuracy: 0.5048 - val_loss: 1.5297 - val_accuracy: 0.5655\n",
      "Epoch 39/50\n",
      "200/200 [==============================] - 25s 126ms/step - loss: 1.7819 - accuracy: 0.4936 - val_loss: 1.6296 - val_accuracy: 0.5484\n",
      "Epoch 40/50\n",
      "200/200 [==============================] - 25s 127ms/step - loss: 1.7924 - accuracy: 0.5017 - val_loss: 1.4824 - val_accuracy: 0.5844\n",
      "Epoch 41/50\n",
      "200/200 [==============================] - 25s 126ms/step - loss: 1.7773 - accuracy: 0.5036 - val_loss: 1.6068 - val_accuracy: 0.5463\n",
      "Epoch 42/50\n",
      "200/200 [==============================] - 26s 128ms/step - loss: 1.7414 - accuracy: 0.5116 - val_loss: 1.4896 - val_accuracy: 0.5820\n",
      "Epoch 43/50\n",
      "200/200 [==============================] - 26s 128ms/step - loss: 1.7734 - accuracy: 0.5009 - val_loss: 1.5328 - val_accuracy: 0.5739\n",
      "Epoch 44/50\n",
      "200/200 [==============================] - 25s 126ms/step - loss: 1.7420 - accuracy: 0.5115 - val_loss: 1.4495 - val_accuracy: 0.5985\n",
      "Epoch 45/50\n",
      "200/200 [==============================] - 25s 127ms/step - loss: 1.7368 - accuracy: 0.5114 - val_loss: 1.4827 - val_accuracy: 0.5907\n",
      "Epoch 46/50\n",
      "200/200 [==============================] - 25s 126ms/step - loss: 1.7329 - accuracy: 0.5089 - val_loss: 1.4340 - val_accuracy: 0.6048\n",
      "Epoch 47/50\n",
      "200/200 [==============================] - 25s 126ms/step - loss: 1.6993 - accuracy: 0.5222 - val_loss: 1.4165 - val_accuracy: 0.6023\n",
      "Epoch 48/50\n",
      "200/200 [==============================] - 25s 126ms/step - loss: 1.6824 - accuracy: 0.5196 - val_loss: 1.4615 - val_accuracy: 0.5964\n",
      "Epoch 49/50\n",
      "200/200 [==============================] - 25s 127ms/step - loss: 1.6654 - accuracy: 0.5229 - val_loss: 1.4034 - val_accuracy: 0.6037\n",
      "Epoch 50/50\n",
      "200/200 [==============================] - 25s 126ms/step - loss: 1.6559 - accuracy: 0.5299 - val_loss: 1.4308 - val_accuracy: 0.6013\n"
     ]
    }
   ],
   "source": [
    "history = model.fit(dataGen.flow(x_train, y_train, batch_size=batchSizeVal),\n",
    "                    steps_per_epoch=stepsPerEpochVal,\n",
    "                    epochs=epochsVal,\n",
    "                    validation_data=(x_validation, y_validation),\n",
    "                    shuffle=1)"
   ]
  },
  {
   "cell_type": "code",
   "execution_count": 41,
   "metadata": {},
   "outputs": [
    {
     "name": "stdout",
     "output_type": "stream",
     "text": [
      "Test Loss Score =  1.3332915306091309\n",
      "Test Accuracy =  0.6101457476615906\n"
     ]
    }
   ],
   "source": [
    "score = model.evaluate(x_test,y_test,verbose=0)\n",
    "print('Test Loss Score = ',score[0])\n",
    "print('Test Accuracy = ',score[1])"
   ]
  },
  {
   "cell_type": "code",
   "execution_count": 42,
   "metadata": {},
   "outputs": [],
   "source": [
    "# Saving the model\n",
    "pickle_out = open(\"model_trained_iitbbs.p\", \"wb\")\n",
    "pickle.dump(model, pickle_out)\n",
    "pickle_out.close()"
   ]
  },
  {
   "cell_type": "code",
   "execution_count": 43,
   "metadata": {},
   "outputs": [
    {
     "data": {
      "image/png": "[encoded data removed]",
      "text/plain": [
       "<Figure size 640x480 with 1 Axes>"
      ]
     },
     "metadata": {},
     "output_type": "display_data"
    }
   ],
   "source": [
    "plt.plot(history.history['accuracy'])\n",
    "plt.plot(history.history['val_accuracy'])\n",
    "plt.title('Model Accuracy')\n",
    "plt.ylabel('Accuracy')\n",
    "plt.xlabel('Epoch')\n",
    "plt.legend(['train', 'test'], loc='upper left')\n",
    "plt.show()"
   ]
  },
  {
   "cell_type": "code",
   "execution_count": null,
   "metadata": {},
   "outputs": [],
   "source": []
  }
 ],
 "metadata": {
  "kernelspec": {
   "display_name": "Python 3",
   "language": "python",
   "name": "python3"
  },
  "language_info": {
   "codemirror_mode": {
    "name": "ipython",
    "version": 3
   },
   "file_extension": ".py",
   "mimetype": "text/x-python",
   "name": "python",
   "nbconvert_exporter": "python",
   "pygments_lexer": "ipython3",
   "version": "3.10.7"
  },
  "orig_nbformat": 4,
  "vscode": {
   "interpreter": {
    "hash": "1a4328f355b51661083ed0ab0cee1e21282cdfd02137eed0363c09ddfe01c150"
   }
  }
 },
 "nbformat": 4,
 "nbformat_minor": 2
}
