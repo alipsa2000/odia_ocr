{
 "cells": [
  {
   "cell_type": "code",
   "execution_count": null,
   "metadata": {},
   "outputs": [],
   "source": [
    "import numpy as np\n",
    "import cv2\n",
    "import os\n",
    "from sklearn.model_selection import train_test_split\n",
    "import matplotlib.pyplot as plt\n",
    "from keras.preprocessing.image import ImageDataGenerator\n",
    "from keras.utils.np_utils import to_categorical\n",
    "from keras.applications.vgg16 import VGG16\n",
    "from keras.applications.vgg16 import preprocess_input\n",
    "from keras.models import Model\n",
    "# from keras.models import Sequential\n",
    "# from keras.layers.convolutional import Conv2D\n",
    "# from keras.layers.convolutional import MaxPooling2D\n",
    "# from keras.layers.core import Activation\n",
    "from keras.layers.core import Flatten\n",
    "from keras.layers.core import Dense\n",
    "# from keras.layers import Dropout\n",
    "from keras import optimizers\n",
    "from keras.callbacks import ModelCheckpoint\n",
    "import cv2\n",
    "import numpy as np\n",
    "import os\n",
    "import keras\n",
    "import matplotlib.pyplot as plt\n",
    "import tensorflow as tf\n",
    "import pickle\n",
    "import socket\n",
    "import sys\n",
    "\n",
    "from keras.models import load_model, Sequential, Model\n",
    "from keras.layers import Conv2D, MaxPooling2D, LSTM, Dense, Flatten, TimeDistributed, Dropout, Input\n",
    "from keras.optimizers import Adam\n",
    "from keras.preprocessing.image import ImageDataGenerator\n",
    "from keras.utils.np_utils import to_categorical\n",
    "from sklearn.preprocessing import LabelEncoder, OneHotEncoder\n",
    "from sklearn.utils import shuffle\n",
    "from sklearn.model_selection import train_test_split\n"
   ]
  },
  {
   "cell_type": "code",
   "execution_count": null,
   "metadata": {},
   "outputs": [],
   "source": [
    "# GLOBAL VARIABLES\n",
    "path = \"data\"\n",
    "Test_Ratio = 0.2\n",
    "ValRatio = 0.2\n",
    "images = []\n",
    "classid = []\n",
    "inputShape = (32,32,3)\n",
    "batchsizeVal = 64\n",
    "#stepsPerEpochsVal = 200\n",
    "epochsVal = 50\n",
    "# img = cv2.imread(path+\"/0/IMG_20210613_164138.jpg\")\n",
    "# img.shape"
   ]
  },
  {
   "cell_type": "code",
   "execution_count": null,
   "metadata": {},
   "outputs": [],
   "source": [
    "# to know number and name of the letters in our dataset\n",
    "#listdir - list of directories\n",
    "myList = os.listdir(path)\n",
    "noofclasses = len(myList)\n",
    "print(\"No of Classes Detected = \",noofclasses)\n",
    "\n",
    "print(\"Importing Classes...\")\n",
    "\n",
    "for x in range(0,noofclasses):\n",
    "    picList = os.listdir(path+\"/\"+myList[x])\n",
    "    for y in picList:\n",
    "        curImg = cv2.imread(path+\"/\"+myList[x]+\"/\"+y)\n",
    "        curImg = cv2.resize(curImg,(inputShape[0],inputShape[1]))\n",
    "        images.append(curImg)\n",
    "        classid.append(x)\n",
    "    print(x,end=\" \")\n",
    "print(\" \")    \n",
    "print(\"No of images imported = \",len(images)) \n",
    "\n",
    "# To convert into numpy array\n",
    "images = np.array(images)\n",
    "classid = np.array(classid)\n",
    "\n",
    "print(images.shape)\n",
    "print(classid.shape)"
   ]
  },
  {
   "attachments": {},
   "cell_type": "markdown",
   "metadata": {},
   "source": [
    "### Splitting the Data\n"
   ]
  },
  {
   "cell_type": "code",
   "execution_count": null,
   "metadata": {},
   "outputs": [],
   "source": [
    "images"
   ]
  },
  {
   "cell_type": "code",
   "execution_count": null,
   "metadata": {},
   "outputs": [],
   "source": [
    "classid"
   ]
  },
  {
   "cell_type": "code",
   "execution_count": null,
   "metadata": {},
   "outputs": [],
   "source": [
    "classid = classid.reshape(-1, 1)\n",
    "noOfClasses = classid\n",
    "onehotencoder = OneHotEncoder()\n",
    "Y = onehotencoder.fit_transform(classid).toarray()\n",
    "\n",
    "images, Y = shuffle(images, Y, random_state=69)\n",
    "\n",
    "x_train, x_test, y_train, y_test = train_test_split(\n",
    "    images, Y, test_size=0.2, random_state=69)\n",
    "x_train, x_validation, y_train, y_validation = train_test_split(\n",
    "    x_train, y_train, test_size=0.2, random_state=69)\n",
    "\n",
    "print(x_train.shape)\n",
    "print(x_test.shape)\n",
    "print(x_validation.shape)\n"
   ]
  },
  {
   "attachments": {},
   "cell_type": "markdown",
   "metadata": {},
   "source": [
    "### PreProcessing\n"
   ]
  },
  {
   "cell_type": "code",
   "execution_count": null,
   "metadata": {},
   "outputs": [],
   "source": [
    "def preprocessing(img):\n",
    "    # img = cv2.cvtColor(img,cv2.COLOR_BGR2GRAY)\n",
    "    # img = cv2.equalizeHist(img)\n",
    "    img = img/255\n",
    "    return img\n",
    "\n",
    "X_train = np.array(list(map(preprocessing,x_train)))\n",
    "X_test = np.array(list(map(preprocessing,x_test)))\n",
    "X_validation = np.array(list(map(preprocessing,x_validation)))\n",
    "\n",
    "# To a depth of one to the images \n",
    "print(X_train.shape)\n",
    "X_train = X_train.reshape(X_train.shape[0],X_train.shape[1],X_train.shape[2],3)\n",
    "X_test = X_test.reshape(X_test.shape[0],X_test.shape[1],X_test.shape[2],3)\n",
    "X_validation = X_validation.reshape(X_validation.shape[0],X_validation.shape[1],X_validation.shape[2],3)\n",
    "print(X_train.shape)\n"
   ]
  },
  {
   "attachments": {},
   "cell_type": "markdown",
   "metadata": {},
   "source": [
    "### Augmenting Images"
   ]
  },
  {
   "cell_type": "code",
   "execution_count": null,
   "metadata": {},
   "outputs": [],
   "source": [
    "# y_train = to_categorical(y_train,noofclasses)\n",
    "# y_test = to_categorical(y_test,noofclasses)\n",
    "# y_validation = to_categorical(y_validation,noofclasses)"
   ]
  },
  {
   "cell_type": "code",
   "execution_count": null,
   "metadata": {},
   "outputs": [],
   "source": [
    "dataGen = ImageDataGenerator(width_shift_range=0.1,\n",
    "                             height_shift_range=0.1,\n",
    "                             zoom_range=0.2,\n",
    "                             shear_range=0.1,\n",
    "                             rotation_range=10)\n",
    "dataGen.fit(x_train)"
   ]
  },
  {
   "attachments": {},
   "cell_type": "markdown",
   "metadata": {},
   "source": [
    "## VGG16 model\n",
    "\n"
   ]
  },
  {
   "cell_type": "code",
   "execution_count": null,
   "metadata": {},
   "outputs": [],
   "source": [
    "# Calculate class weights based on the distribution of the training set\n",
    "class_weights = {}\n",
    "unique, counts = np.unique(classid, return_counts=True)\n",
    "total = np.sum(counts)\n",
    "for i in range(len(unique)):\n",
    "    class_weights[unique[i]] = total / (len(unique) * counts[i])"
   ]
  },
  {
   "cell_type": "code",
   "execution_count": null,
   "metadata": {},
   "outputs": [],
   "source": [
    "vgg = VGG16(input_shape=inputShape, weights='imagenet', include_top=False)\n",
    "vgg.input"
   ]
  },
  {
   "cell_type": "code",
   "execution_count": null,
   "metadata": {},
   "outputs": [],
   "source": [
    "for layer in vgg.layers:\n",
    "  layer.trainable = False"
   ]
  },
  {
   "cell_type": "code",
   "execution_count": null,
   "metadata": {},
   "outputs": [],
   "source": [
    "x = Flatten()(vgg.output)\n",
    "prediction = Dense(noofclasses, activation='softmax')(x)\n",
    "model = Model(inputs=vgg.input, outputs=prediction)\n",
    "model.summary()"
   ]
  },
  {
   "cell_type": "code",
   "execution_count": null,
   "metadata": {},
   "outputs": [],
   "source": [
    "adam = optimizers.Adam(learning_rate=0.01)\n",
    "model.compile(loss='categorical_crossentropy',\n",
    "              optimizer=adam,\n",
    "              metrics=['accuracy'])"
   ]
  },
  {
   "cell_type": "code",
   "execution_count": 15,
   "metadata": {},
   "outputs": [
    {
     "name": "stdout",
     "output_type": "stream",
     "text": [
      "68/68 [==============================] - 77s 1s/step - loss: 3.3258 - accuracy: 0.1348 - val_loss: 3.3016 - val_accuracy: 0.1555\n",
      "Epoch 7/50\n",
      "68/68 [==============================] - 91s 1s/step - loss: 3.3093 - accuracy: 0.1376 - val_loss: 3.2702 - val_accuracy: 0.1527\n",
      "Epoch 8/50\n",
      "68/68 [==============================] - 85s 1s/step - loss: 3.2843 - accuracy: 0.1446 - val_loss: 3.3046 - val_accuracy: 0.1453\n",
      "Epoch 9/50\n",
      "68/68 [==============================] - 47s 684ms/step - loss: 3.2460 - accuracy: 0.1497 - val_loss: 3.3424 - val_accuracy: 0.1257\n",
      "Epoch 10/50\n",
      "68/68 [==============================] - 87s 1s/step - loss: 3.1810 - accuracy: 0.1621 - val_loss: 3.1963 - val_accuracy: 0.1425\n",
      "Epoch 11/50\n",
      "68/68 [==============================] - 111s 2s/step - loss: 3.1908 - accuracy: 0.1612 - val_loss: 3.1587 - val_accuracy: 0.1723\n",
      "Epoch 12/50\n",
      "68/68 [==============================] - 113s 2s/step - loss: 3.1355 - accuracy: 0.1763 - val_loss: 3.2113 - val_accuracy: 0.1583\n",
      "Epoch 13/50\n",
      "68/68 [==============================] - 100s 1s/step - loss: 3.1501 - accuracy: 0.1602 - val_loss: 3.1674 - val_accuracy: 0.1620\n",
      "Epoch 14/50\n",
      "68/68 [==============================] - 98s 1s/step - loss: 3.1474 - accuracy: 0.1779 - val_loss: 3.2184 - val_accuracy: 0.1564\n",
      "Epoch 15/50\n",
      "68/68 [==============================] - 79s 1s/step - loss: 3.0993 - accuracy: 0.1821 - val_loss: 3.1132 - val_accuracy: 0.1825\n",
      "Epoch 16/50\n",
      "68/68 [==============================] - 89s 1s/step - loss: 3.0912 - accuracy: 0.1830 - val_loss: 3.2082 - val_accuracy: 0.1620\n",
      "Epoch 17/50\n",
      "68/68 [==============================] - 68s 998ms/step - loss: 3.0458 - accuracy: 0.1898 - val_loss: 3.1568 - val_accuracy: 0.1648\n",
      "Epoch 18/50\n",
      "68/68 [==============================] - 68s 1s/step - loss: 3.0517 - accuracy: 0.1928 - val_loss: 3.1011 - val_accuracy: 0.1853\n",
      "Epoch 19/50\n",
      "68/68 [==============================] - 70s 1s/step - loss: 3.0659 - accuracy: 0.1966 - val_loss: 3.0961 - val_accuracy: 0.1769\n",
      "Epoch 20/50\n",
      "68/68 [==============================] - 69s 1s/step - loss: 3.0763 - accuracy: 0.1863 - val_loss: 3.1512 - val_accuracy: 0.1862\n",
      "Epoch 21/50\n",
      "68/68 [==============================] - 80s 1s/step - loss: 3.0218 - accuracy: 0.2042 - val_loss: 3.1653 - val_accuracy: 0.1788\n",
      "Epoch 22/50\n",
      "68/68 [==============================] - 78s 1s/step - loss: 3.0169 - accuracy: 0.1970 - val_loss: 3.1578 - val_accuracy: 0.1890\n",
      "Epoch 23/50\n",
      "68/68 [==============================] - 78s 1s/step - loss: 3.0002 - accuracy: 0.1968 - val_loss: 3.1234 - val_accuracy: 0.1927\n",
      "Epoch 24/50\n",
      "68/68 [==============================] - 77s 1s/step - loss: 3.0206 - accuracy: 0.2012 - val_loss: 3.0705 - val_accuracy: 0.1965\n",
      "Epoch 25/50\n",
      "68/68 [==============================] - 77s 1s/step - loss: 2.9721 - accuracy: 0.2068 - val_loss: 3.0854 - val_accuracy: 0.1862\n",
      "Epoch 26/50\n",
      "68/68 [==============================] - 71s 1s/step - loss: 2.9304 - accuracy: 0.2150 - val_loss: 3.0829 - val_accuracy: 0.1853\n",
      "Epoch 27/50\n",
      "68/68 [==============================] - 71s 1s/step - loss: 3.0018 - accuracy: 0.2066 - val_loss: 3.1352 - val_accuracy: 0.1797\n",
      "Epoch 28/50\n",
      "68/68 [==============================] - 77s 1s/step - loss: 2.9660 - accuracy: 0.2028 - val_loss: 3.1414 - val_accuracy: 0.1909\n",
      "Epoch 29/50\n",
      "68/68 [==============================] - 78s 1s/step - loss: 3.0047 - accuracy: 0.2082 - val_loss: 3.0874 - val_accuracy: 0.1788\n",
      "Epoch 30/50\n",
      "68/68 [==============================] - 78s 1s/step - loss: 2.9740 - accuracy: 0.2082 - val_loss: 3.2131 - val_accuracy: 0.1657\n",
      "Epoch 31/50\n",
      "68/68 [==============================] - 78s 1s/step - loss: 2.9369 - accuracy: 0.2133 - val_loss: 3.0686 - val_accuracy: 0.1909\n",
      "Epoch 32/50\n",
      "68/68 [==============================] - 78s 1s/step - loss: 2.9603 - accuracy: 0.2180 - val_loss: 3.0855 - val_accuracy: 0.1890\n",
      "Epoch 33/50\n",
      "68/68 [==============================] - 79s 1s/step - loss: 2.9630 - accuracy: 0.2112 - val_loss: 3.1243 - val_accuracy: 0.1834\n",
      "Epoch 34/50\n",
      "68/68 [==============================] - 83s 1s/step - loss: 2.8893 - accuracy: 0.2212 - val_loss: 3.0702 - val_accuracy: 0.2030\n",
      "Epoch 35/50\n",
      "68/68 [==============================] - 83s 1s/step - loss: 2.9249 - accuracy: 0.2210 - val_loss: 3.1038 - val_accuracy: 0.1927\n",
      "Epoch 36/50\n",
      "68/68 [==============================] - 94s 1s/step - loss: 2.9142 - accuracy: 0.2264 - val_loss: 3.1234 - val_accuracy: 0.1760\n",
      "Epoch 37/50\n",
      "68/68 [==============================] - 78s 1s/step - loss: 2.9297 - accuracy: 0.2110 - val_loss: 3.0923 - val_accuracy: 0.2020\n",
      "Epoch 38/50\n",
      "68/68 [==============================] - 81s 1s/step - loss: 2.8813 - accuracy: 0.2292 - val_loss: 3.0483 - val_accuracy: 0.1937\n",
      "Epoch 39/50\n",
      "68/68 [==============================] - 78s 1s/step - loss: 2.8986 - accuracy: 0.2159 - val_loss: 3.1111 - val_accuracy: 0.1937\n",
      "Epoch 40/50\n",
      "68/68 [==============================] - 78s 1s/step - loss: 2.9047 - accuracy: 0.2177 - val_loss: 3.0801 - val_accuracy: 0.1974\n",
      "Epoch 41/50\n",
      "68/68 [==============================] - 78s 1s/step - loss: 2.8722 - accuracy: 0.2247 - val_loss: 3.0610 - val_accuracy: 0.1946\n",
      "Epoch 42/50\n",
      "68/68 [==============================] - 77s 1s/step - loss: 2.8631 - accuracy: 0.2368 - val_loss: 3.0678 - val_accuracy: 0.2030\n",
      "Epoch 43/50\n",
      "68/68 [==============================] - 76s 1s/step - loss: 2.8410 - accuracy: 0.2357 - val_loss: 3.1201 - val_accuracy: 0.1778\n",
      "Epoch 44/50\n",
      "68/68 [==============================] - 78s 1s/step - loss: 2.8643 - accuracy: 0.2245 - val_loss: 3.0916 - val_accuracy: 0.1881\n",
      "Epoch 45/50\n",
      "68/68 [==============================] - 76s 1s/step - loss: 2.8692 - accuracy: 0.2408 - val_loss: 3.1002 - val_accuracy: 0.1788\n",
      "Epoch 46/50\n",
      "68/68 [==============================] - 70s 1s/step - loss: 2.8526 - accuracy: 0.2201 - val_loss: 3.0828 - val_accuracy: 0.1797\n",
      "Epoch 47/50\n",
      "68/68 [==============================] - 69s 1s/step - loss: 2.8485 - accuracy: 0.2320 - val_loss: 2.9914 - val_accuracy: 0.2142\n",
      "Epoch 48/50\n",
      "68/68 [==============================] - 70s 1s/step - loss: 2.8230 - accuracy: 0.2385 - val_loss: 3.0704 - val_accuracy: 0.1806\n",
      "Epoch 49/50\n",
      "68/68 [==============================] - 69s 1s/step - loss: 2.8511 - accuracy: 0.2313 - val_loss: 3.0272 - val_accuracy: 0.2002\n",
      "Epoch 50/50\n",
      "68/68 [==============================] - 70s 1s/step - loss: 2.8125 - accuracy: 0.2382 - val_loss: 3.0931 - val_accuracy: 0.1732\n"
     ]
    }
   ],
   "source": [
    "history = model.fit(dataGen.flow(X_train, y_train, batch_size=batchsizeVal),\n",
    "                    steps_per_epoch=None,\n",
    "                    epochs=epochsVal,\n",
    "                    validation_data=(X_validation, y_validation),\n",
    "                    shuffle=1,\n",
    "                    class_weight=class_weights,\n",
    "                    verbose=1)"
   ]
  },
  {
   "cell_type": "code",
   "execution_count": 16,
   "metadata": {},
   "outputs": [
    {
     "name": "stdout",
     "output_type": "stream",
     "text": [
      "Test Loss Score =  471.1801452636719\n",
      "Test Accuracy =  0.03129657357931137\n"
     ]
    }
   ],
   "source": [
    "score = model.evaluate(x_test,y_test,verbose=0)\n",
    "print('Test Loss Score = ',score[0])\n",
    "print('Test Accuracy = ',score[1])"
   ]
  },
  {
   "cell_type": "code",
   "execution_count": 17,
   "metadata": {},
   "outputs": [
    {
     "name": "stdout",
     "output_type": "stream",
     "text": [
      "Keras weights file (<HDF5 file \"variables.h5\" (mode r+)>) saving:\n",
      "...layers\\conv2d\n",
      "......vars\n",
      ".........0\n",
      ".........1\n",
      "...layers\\conv2d_1\n",
      "......vars\n",
      ".........0\n",
      ".........1\n",
      "...layers\\conv2d_10\n",
      "......vars\n",
      ".........0\n",
      ".........1\n",
      "...layers\\conv2d_11\n",
      "......vars\n",
      ".........0\n",
      ".........1\n",
      "...layers\\conv2d_12\n",
      "......vars\n",
      ".........0\n",
      ".........1\n",
      "...layers\\conv2d_2\n",
      "......vars\n",
      ".........0\n",
      ".........1\n",
      "...layers\\conv2d_3\n",
      "......vars\n",
      ".........0\n",
      ".........1\n",
      "...layers\\conv2d_4\n",
      "......vars\n",
      ".........0\n",
      ".........1\n",
      "...layers\\conv2d_5\n",
      "......vars\n",
      ".........0\n",
      ".........1\n",
      "...layers\\conv2d_6\n",
      "......vars\n",
      ".........0\n",
      ".........1\n",
      "...layers\\conv2d_7\n",
      "......vars\n",
      ".........0\n",
      ".........1\n",
      "...layers\\conv2d_8\n",
      "......vars\n",
      ".........0\n",
      ".........1\n",
      "...layers\\conv2d_9\n",
      "......vars\n",
      ".........0\n",
      ".........1\n",
      "...layers\\dense\n",
      "......vars\n",
      ".........0\n",
      ".........1\n",
      "...layers\\flatten\n",
      "......vars\n",
      "...layers\\input_layer\n",
      "......vars\n",
      "...layers\\max_pooling2d\n",
      "......vars\n",
      "...layers\\max_pooling2d_1\n",
      "......vars\n",
      "...layers\\max_pooling2d_2\n",
      "......vars\n",
      "...layers\\max_pooling2d_3\n",
      "......vars\n",
      "...layers\\max_pooling2d_4\n",
      "......vars\n",
      "...metrics\\mean\n",
      "......vars\n",
      ".........0\n",
      ".........1\n",
      "...metrics\\mean_metric_wrapper\n",
      "......vars\n",
      ".........0\n",
      ".........1\n",
      "...vars\n",
      "Keras model archive saving:\n",
      "File Name                                             Modified             Size\n",
      "config.json                                    2023-05-13 21:09:25        11243\n",
      "metadata.json                                  2023-05-13 21:09:25           64\n",
      "variables.h5                                   2023-05-13 21:09:26     59023976\n"
     ]
    }
   ],
   "source": [
    "# Saving the model\n",
    "pickle_out = open(\"model_trained_iitbbs_vgg16.p\", \"wb\")\n",
    "pickle.dump(model, pickle_out)\n",
    "pickle_out.close()"
   ]
  },
  {
   "cell_type": "code",
   "execution_count": 18,
   "metadata": {},
   "outputs": [
    {
     "data": {
      "image/png": "[encoded data removed]",
      "text/plain": [
       "<Figure size 432x288 with 1 Axes>"
      ]
     },
     "metadata": {
      "needs_background": "light"
     },
     "output_type": "display_data"
    }
   ],
   "source": [
    "plt.plot(history.history['accuracy'])\n",
    "plt.plot(history.history['val_accuracy'])\n",
    "plt.title('Model Accuracy')\n",
    "plt.ylabel('Accuracy')\n",
    "plt.xlabel('Epoch')\n",
    "plt.legend(['train', 'test'], loc='upper left')\n",
    "plt.show()\n"
   ]
  },
  {
   "cell_type": "code",
   "execution_count": null,
   "metadata": {},
   "outputs": [],
   "source": []
  },
  {
   "cell_type": "code",
   "execution_count": null,
   "metadata": {},
   "outputs": [],
   "source": []
  },
  {
   "cell_type": "code",
   "execution_count": null,
   "metadata": {},
   "outputs": [],
   "source": []
  },
  {
   "cell_type": "code",
   "execution_count": null,
   "metadata": {},
   "outputs": [],
   "source": []
  },
  {
   "cell_type": "code",
   "execution_count": null,
   "metadata": {},
   "outputs": [],
   "source": []
  },
  {
   "cell_type": "code",
   "execution_count": null,
   "metadata": {},
   "outputs": [],
   "source": []
  }
 ],
 "metadata": {
  "kernelspec": {
   "display_name": "Python 3",
   "language": "python",
   "name": "python3"
  },
  "language_info": {
   "codemirror_mode": {
    "name": "ipython",
    "version": 3
   },
   "file_extension": ".py",
   "mimetype": "text/x-python",
   "name": "python",
   "nbconvert_exporter": "python",
   "pygments_lexer": "ipython3",
   "version": "3.10.2"
  },
  "orig_nbformat": 4
 },
 "nbformat": 4,
 "nbformat_minor": 2
}
