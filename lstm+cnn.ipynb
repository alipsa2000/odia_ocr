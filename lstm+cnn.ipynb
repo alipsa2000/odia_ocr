{
 "cells": [
  {
   "cell_type": "code",
   "execution_count": 1,
   "metadata": {},
   "outputs": [],
   "source": [
    "import os\n",
    "import numpy as np\n",
    "import cv2\n",
    "from PIL import Image\n",
    "from sklearn.model_selection import train_test_split\n",
    "from sklearn.preprocessing import LabelEncoder, OneHotEncoder\n",
    "from sklearn.utils import shuffle\n",
    "from keras.models import Sequential\n",
    "from keras.layers import LSTM, Conv2D, MaxPooling2D, Flatten, Dense, Reshape, TimeDistributed\n",
    "from keras.optimizers import Adam"
   ]
  },
  {
   "cell_type": "code",
   "execution_count": 2,
   "metadata": {},
   "outputs": [],
   "source": [
    "# GLOBAL VARIABLES\n",
    "path = \"IITBBS_Dataset_V2\"\n",
    "images = []\n",
    "classid = []\n",
    "inputShape = (32, 32, 3)"
   ]
  },
  {
   "cell_type": "code",
   "execution_count": 3,
   "metadata": {},
   "outputs": [
    {
     "name": "stdout",
     "output_type": "stream",
     "text": [
      "No of Classes Detected =  62\n",
      "Importing Classes...\n",
      "0 1 2 3 4 5 6 7 8 9 10 11 12 13 14 15 16 17 18 19 20 21 22 23 24 25 26 27 28 29 30 31 32 33 34 35 36 37 38 39 40 41 42 43 44 45 46 47 48 49 50 51 52 53 54 55 56 57 58 59 60 61  \n",
      "No of images imported =  26456\n",
      "(26456, 32, 32, 3)\n",
      "(26456,)\n"
     ]
    }
   ],
   "source": [
    "myList = os.listdir(path)\n",
    "noofclasses = len(myList)\n",
    "print(\"No of Classes Detected = \", noofclasses)\n",
    "\n",
    "print(\"Importing Classes...\")\n",
    "\n",
    "for x in range(0, noofclasses):\n",
    "    picList = os.listdir(path+\"/\"+myList[x])\n",
    "    for y in picList:\n",
    "        curImg = cv2.imread(path+\"/\"+myList[x]+\"/\"+y)\n",
    "        curImg = cv2.resize(curImg, (inputShape[0], inputShape[1]))\n",
    "        images.append(curImg)\n",
    "        classid.append(x)\n",
    "    print(x, end=\" \")\n",
    "print(\" \")\n",
    "print(\"No of images imported = \", len(images))\n",
    "\n",
    "# To convert into numpy array\n",
    "images = np.array(images)\n",
    "classid = np.array(classid)\n",
    "\n",
    "print(images.shape)\n",
    "print(classid.shape)"
   ]
  },
  {
   "cell_type": "code",
   "execution_count": 4,
   "metadata": {},
   "outputs": [
    {
     "name": "stdout",
     "output_type": "stream",
     "text": [
      "(16931, 32, 32, 3)\n",
      "(5292, 32, 32, 3)\n",
      "(4233, 32, 32, 3)\n"
     ]
    }
   ],
   "source": [
    "classid = classid.reshape(-1, 1)\n",
    "noOfClasses = classid\n",
    "onehotencoder = OneHotEncoder()\n",
    "Y = onehotencoder.fit_transform(classid).toarray()\n",
    "\n",
    "images, Y = shuffle(images, Y, random_state=69)\n",
    "\n",
    "x_train, x_test, y_train, y_test = train_test_split(\n",
    "    images, Y, test_size=0.2, random_state=69)\n",
    "x_train, x_validation, y_train, y_validation = train_test_split(\n",
    "    x_train, y_train, test_size=0.2, random_state=69)\n",
    "\n",
    "print(x_train.shape)\n",
    "print(x_test.shape)\n",
    "print(x_validation.shape)\n"
   ]
  },
  {
   "cell_type": "code",
   "execution_count": 5,
   "metadata": {},
   "outputs": [],
   "source": [
    "model = Sequential()\n",
    "\n",
    "# # Step 1: CNN for spatial feature extraction\n",
    "# model.add(Conv2D(32, (3, 3), activation='relu', input_shape=(32, 32, 3)))\n",
    "# model.add(MaxPooling2D(pool_size=(2, 2)))\n",
    "# model.add(Conv2D(64, (3, 3), activation='relu'))\n",
    "# model.add(MaxPooling2D(pool_size=(2, 2)))\n",
    "# model.add(Conv2D(128, (3, 3), activation='relu'))\n",
    "# model.add(Conv2D(128, (3, 3), activation='relu'))\n",
    "# model.add(Flatten())\n",
    "\n",
    "# # Step 2: LSTM for temporal modeling\n",
    "# model.add(Reshape((1, -1)))\n",
    "# model.add(LSTM(256))\n",
    "\n",
    "# # Step 3: Fully connected layer for prediction\n",
    "# model.add(Dense(128, activation='relu'))\n",
    "# model.add(Dense(62, activation='softmax'))\n",
    "\n",
    "\n",
    "# Step 1: Reshape input data for LSTM\n",
    "model.add(Reshape((32 * 32, 3), input_shape=(32, 32, 3)))\n",
    "\n",
    "# Step 2: LSTM for temporal modeling\n",
    "model.add(LSTM(256, return_sequences=True))\n",
    "\n",
    "# Step 3: Reshape output of LSTM for spatial feature extraction\n",
    "model.add(Reshape((32, 32, 256)))\n",
    "\n",
    "# Step 4: CNN for spatial feature extraction\n",
    "model.add(Conv2D(32, (3, 3), activation='relu'))\n",
    "model.add(MaxPooling2D(pool_size=(2, 2)))\n",
    "model.add(Conv2D(64, (3, 3), activation='relu'))\n",
    "model.add(MaxPooling2D(pool_size=(2, 2)))\n",
    "model.add(Conv2D(128, (3, 3), activation='relu'))\n",
    "model.add(Conv2D(128, (3, 3), activation='relu'))\n",
    "model.add(Flatten())\n",
    "\n",
    "# Step 5: Fully connected layer for prediction\n",
    "model.add(Dense(128, activation='relu'))\n",
    "model.add(Dense(62, activation='softmax'))"
   ]
  },
  {
   "cell_type": "code",
   "execution_count": 6,
   "metadata": {},
   "outputs": [],
   "source": [
    "# Compile the model\n",
    "model.compile(loss='categorical_crossentropy', optimizer='adam', metrics=['accuracy'])"
   ]
  },
  {
   "cell_type": "code",
   "execution_count": 7,
   "metadata": {},
   "outputs": [
    {
     "name": "stdout",
     "output_type": "stream",
     "text": [
      "530/530 [==============================] - 2644s 5s/step - loss: 3.1367 - accuracy: 0.2084 - val_loss: 2.3065 - val_accuracy: 0.3761\n"
     ]
    }
   ],
   "source": [
    "# Train the model\n",
    "epochs = 1\n",
    "history = model.fit(x_train, y_train, epochs=epochs, verbose=1, validation_data=(x_validation, y_validation))"
   ]
  },
  {
   "cell_type": "code",
   "execution_count": 8,
   "metadata": {},
   "outputs": [
    {
     "name": "stdout",
     "output_type": "stream",
     "text": [
      "166/166 [==============================] - 117s 705ms/step - loss: 2.2936 - accuracy: 0.3776\n",
      "Test Loss: 2.2935805320739746\n",
      "Test Accuracy: 0.37755101919174194\n"
     ]
    }
   ],
   "source": [
    "# Evaluate the model\n",
    "loss, accuracy = model.evaluate(x_test, y_test)\n",
    "print(\"Test Loss:\", loss)\n",
    "print(\"Test Accuracy:\", accuracy)"
   ]
  },
  {
   "cell_type": "code",
   "execution_count": 10,
   "metadata": {},
   "outputs": [],
   "source": [
    "# Saving the model\n",
    "import pickle\n",
    "pickle_out = open(\"model_trained_iitbbs_cnn+lstm.p\", \"wb\")\n",
    "pickle.dump(model, pickle_out)\n",
    "pickle_out.close()"
   ]
  },
  {
   "cell_type": "code",
   "execution_count": 13,
   "metadata": {},
   "outputs": [
    {
     "data": {
      "image/png": "[encoded data removed]",
      "text/plain": [
       "<Figure size 640x480 with 1 Axes>"
      ]
     },
     "metadata": {},
     "output_type": "display_data"
    }
   ],
   "source": [
    "import matplotlib.pyplot as plt\n",
    "plt.plot(history.history['accuracy'])\n",
    "plt.plot(history.history['val_accuracy'])\n",
    "plt.title('Model Accuracy')\n",
    "plt.ylabel('Accuracy')\n",
    "plt.xlabel('Epoch')\n",
    "plt.legend(['train', 'test'], loc='upper left')\n",
    "plt.show()"
   ]
  },
  {
   "cell_type": "code",
   "execution_count": null,
   "metadata": {},
   "outputs": [],
   "source": []
  },
  {
   "cell_type": "code",
   "execution_count": null,
   "metadata": {},
   "outputs": [],
   "source": []
  },
  {
   "cell_type": "code",
   "execution_count": null,
   "metadata": {},
   "outputs": [],
   "source": []
  },
  {
   "cell_type": "code",
   "execution_count": null,
   "metadata": {},
   "outputs": [],
   "source": []
  }
 ],
 "metadata": {
  "kernelspec": {
   "display_name": "Python 3",
   "language": "python",
   "name": "python3"
  },
  "language_info": {
   "codemirror_mode": {
    "name": "ipython",
    "version": 3
   },
   "file_extension": ".py",
   "mimetype": "text/x-python",
   "name": "python",
   "nbconvert_exporter": "python",
   "pygments_lexer": "ipython3",
   "version": "3.10.2"
  },
  "orig_nbformat": 4
 },
 "nbformat": 4,
 "nbformat_minor": 2
}
